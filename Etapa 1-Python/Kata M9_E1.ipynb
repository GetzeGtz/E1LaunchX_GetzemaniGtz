{
 "cells": [
  {
   "cell_type": "markdown",
   "metadata": {},
   "source": [
    "# Módulo 9 - Funciones"
   ]
  },
  {
   "cell_type": "markdown",
   "metadata": {},
   "source": [
    "Ejercicio 1: Uso de funciones en Python\n",
    "\n",
    "Trabajar con argumentos en funciones\n",
    "\n",
    "Los argumentos requeridos en las funciones se utilizan cuando las funciones necesitan que esos argumentos funcionen correctamente. En este ejercicio, construirás un informe de combustible que requiere información de varias ubicaciones de combustible en todo el cohete."
   ]
  },
  {
   "cell_type": "code",
   "execution_count": 1,
   "metadata": {},
   "outputs": [],
   "source": [
    "# Función para leer 3 tanques de combustible y muestre el promedio\n",
    "# Comienza por crear una función que necesite tres lecturas de combustible y devuelva un informe\n",
    "def generate_report(tank_one, tank_two, tank_three):\n",
    "    total_average = (tank_one + tank_two + tank_three) / 3\n",
    "    return f\"\"\"Fuel Report:\n",
    "    Total Average: {total_average}%\n",
    "    Tank one: {tank_one}%\n",
    "    Tank two: {tank_two}%\n",
    "    Tank three: {tank_three}% \n",
    "    \"\"\""
   ]
  },
  {
   "cell_type": "code",
   "execution_count": 2,
   "metadata": {},
   "outputs": [
    {
     "name": "stdout",
     "output_type": "stream",
     "text": [
      "Fuel Report:\n",
      "    Total Average: 84.66666666666667%\n",
      "    Tank one: 92%\n",
      "    Tank two: 87%\n",
      "    Tank three: 75% \n",
      "    \n"
     ]
    }
   ],
   "source": [
    "# Llamamos a la función que genera el reporte print(funcion(tanque1, tanque2, tanque3))\n",
    "# Vamos a comprobarlo. Pd: Para esta misión, los tanques no están llenos.\n",
    "\n",
    "print(generate_report(92, 87, 75))"
   ]
  },
  {
   "cell_type": "code",
   "execution_count": 3,
   "metadata": {},
   "outputs": [
    {
     "data": {
      "text/plain": [
       "85.33333333333333"
      ]
     },
     "execution_count": 3,
     "metadata": {},
     "output_type": "execute_result"
    }
   ],
   "source": [
    "# Función promedio \n",
    "# Extrae el cálculo promedio de la función en una nueva función para que el promedio se pueda hacer de forma independiente.\n",
    "def average(values):\n",
    "    total = sum(values)\n",
    "    number_of_items = len(values)\n",
    "    return total / number_of_items\n",
    "\n",
    "# Prueba la función de promedio con una lista de enteros:\n",
    "average([79, 84, 93]) "
   ]
  },
  {
   "cell_type": "code",
   "execution_count": 4,
   "metadata": {},
   "outputs": [
    {
     "name": "stdout",
     "output_type": "stream",
     "text": [
      "Fuel Report:\n",
      "    Total Average: 92.66666666666667%\n",
      "    Tank one (Main): 89%\n",
      "    Tank two (External): 89%\n",
      "    Tank three (Hydrogen): 97% \n",
      "    \n"
     ]
    }
   ],
   "source": [
    "# Actualiza la función de informes para llamando a la nueva función del promedio\n",
    "def generate_report(tank_one, tank_two, tank_three):\n",
    "    return f\"\"\"Fuel Report:\n",
    "    Total Average: {average([tank_one, tank_two, tank_three])}%\n",
    "    Tank one (Main): {tank_one}%\n",
    "    Tank two (External): {tank_one}%\n",
    "    Tank three (Hydrogen): {tank_three}% \n",
    "    \"\"\"\n",
    "\n",
    "# Vuelve a llamar a la función actualizada con nuevos valores\n",
    "print(generate_report(89, 92, 97))"
   ]
  },
  {
   "cell_type": "markdown",
   "metadata": {},
   "source": [
    "Ejercicio 2: Trabajo con argumentos de palabra clave\n",
    "\n",
    "Trabajar con argumentos de palabras clave en funciones\n",
    "\n",
    "En este ejercicio, construirás un informe de cohete que requiere varias piezas de información, como el tiempo hasta el destino, el combustible a la izquierda y el nombre del destino. "
   ]
  },
  {
   "cell_type": "code",
   "execution_count": 6,
   "metadata": {},
   "outputs": [
    {
     "name": "stdout",
     "output_type": "stream",
     "text": [
      "\n",
      "    Mission to Mars\n",
      "    Total travel time: 101.5 hours\n",
      "    Total fuel left: 1600000 gallons\n",
      "    \n"
     ]
    }
   ],
   "source": [
    "# Función con un informe preciso de la misión. Considera hora de prelanzamiento, tiempo de vuelo, destino, tanque externo y tanque interno\n",
    "def mission_report(pre_launch_time, flight_time, destination, external_tank, main_tank):\n",
    "    return f\"\"\"\n",
    "    Mission to {destination}\n",
    "    Total travel time: {pre_launch_time + flight_time} hours\n",
    "    Total fuel left: {external_tank + main_tank} gallons\n",
    "    \"\"\"\n",
    "\n",
    "print(mission_report(0.5, 101, \"Mars\", 700000, 900000))"
   ]
  },
  {
   "cell_type": "code",
   "execution_count": 10,
   "metadata": {},
   "outputs": [
    {
     "name": "stdout",
     "output_type": "stream",
     "text": [
      "\n",
      "    Mission to Mars\n",
      "    Total travel time: 73.5 hours\n",
      "    Total fuel left: 750000\n",
      "    \n"
     ]
    }
   ],
   "source": [
    "# Escribe tu nueva función de reporte\n",
    "# Hazlo más flexible permitiendo cualquier número de pasos basados en el tiempo y cualquier número de tanques\n",
    "# Asegurate que la función sea más legible mediante el uso de nombres de variables que están asociados con las entradas\n",
    "\n",
    "def mission_report(destination, *hours, **fuel_reservoirs):\n",
    "    return f\"\"\"\n",
    "    Mission to {destination}\n",
    "    Total travel time: {sum(hours)} hours\n",
    "    Total fuel left: {sum(fuel_reservoirs.values())}\n",
    "    \"\"\"\n",
    "\n",
    "print(mission_report(\"Mars\", 0.5, 12, 61, main=50000, external=700000))"
   ]
  },
  {
   "cell_type": "code",
   "execution_count": 11,
   "metadata": {},
   "outputs": [
    {
     "name": "stdout",
     "output_type": "stream",
     "text": [
      "\n",
      "    Mission to Mars\n",
      "    Total travel time: 83.8 hours\n",
      "    Total fuel left: 1400000\n",
      "    main tank --> 900000 gallons left\n",
      "external tank --> 500000 gallons left\n",
      "\n"
     ]
    }
   ],
   "source": [
    "# Escribe tu nueva función\n",
    "# El combustible que queda en los tanques es especíco. Actualiza la función para usar el nombre de cada tanque en el informe\n",
    "\n",
    "def mission_report(destination, *hours, **fuel_reservoirs):\n",
    "    main_report = f\"\"\"\n",
    "    Mission to {destination}\n",
    "    Total travel time: {sum(hours)} hours\n",
    "    Total fuel left: {sum(fuel_reservoirs.values())}\n",
    "    \"\"\"\n",
    "    for tank_name, gallons in fuel_reservoirs.items():\n",
    "        main_report += f\"{tank_name} tank --> {gallons} gallons left\\n\"\n",
    "    return main_report\n",
    "\n",
    "print(mission_report(\"Mars\", 0.8, 17, 66, main=900000, external=500000))"
   ]
  }
 ],
 "metadata": {
  "interpreter": {
   "hash": "76c532f8357428b40b338e6395c0a493d7b4c9435735ea6f07bcbdfcd9cdf8cf"
  },
  "kernelspec": {
   "display_name": "Python 3.10.2 64-bit",
   "language": "python",
   "name": "python3"
  },
  "language_info": {
   "codemirror_mode": {
    "name": "ipython",
    "version": 3
   },
   "file_extension": ".py",
   "mimetype": "text/x-python",
   "name": "python",
   "nbconvert_exporter": "python",
   "pygments_lexer": "ipython3",
   "version": "3.10.2"
  },
  "orig_nbformat": 4
 },
 "nbformat": 4,
 "nbformat_minor": 2
}
